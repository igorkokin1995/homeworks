{
  "nbformat": 4,
  "nbformat_minor": 0,
  "metadata": {
    "colab": {
      "provenance": [],
      "authorship_tag": "ABX9TyMDxLji5CsSdwmAZswrGptE",
      "include_colab_link": true
    },
    "kernelspec": {
      "name": "python3",
      "display_name": "Python 3"
    },
    "language_info": {
      "name": "python"
    }
  },
  "cells": [
    {
      "cell_type": "markdown",
      "metadata": {
        "id": "view-in-github",
        "colab_type": "text"
      },
      "source": [
        "<a href=\"https://colab.research.google.com/github/igorkokin1995/homeworks/blob/main/%D0%94%D0%BE%D0%BC%D0%B0%D1%88%D0%BD%D0%B5%D0%B5_%D0%B7%D0%B0%D0%B4%D0%B0%D0%BD%D0%B8%D0%B5_%D0%BA_%D0%BB%D0%B5%D0%BA%D1%86%D0%B8%D0%B8_%C2%AB%D0%A3%D0%BF%D1%80%D0%B0%D0%B2%D0%BB%D1%8F%D1%8E%D1%89%D0%B8%D0%B5_%D0%BA%D0%BE%D0%BD%D1%81%D1%82%D1%80%D1%83%D0%BA%D1%86%D0%B8%D0%B8_%D0%B8_%D0%BA%D0%BE%D0%BB%D0%BB%D0%B5%D0%BA%D1%86%D0%B8%D0%B8%C2%BB_(%D1%87%D0%B0%D1%81%D1%82%D1%8C_2)_%D0%9A%D0%BE%D0%BA%D0%B8%D0%BD_DAU_26.ipynb\" target=\"_parent\"><img src=\"https://colab.research.google.com/assets/colab-badge.svg\" alt=\"Open In Colab\"/></a>"
      ]
    },
    {
      "cell_type": "markdown",
      "source": [
        "###Задание 1\n",
        "Дана переменная, в которой хранится словарь, содержащий гео-метки для каждого пользователя (пример структуры данных приведен ниже). Вам необходимо написать программу, которая выведет на экран множество уникальных гео-меток всех пользователей.\n"
      ],
      "metadata": {
        "id": "uH5kQ5q8jLaH"
      }
    },
    {
      "cell_type": "code",
      "execution_count": null,
      "metadata": {
        "colab": {
          "base_uri": "https://localhost:8080/"
        },
        "id": "9lStDjujjHFy",
        "outputId": "d9bdfc83-9833-4faa-bf09-8c53342c6be7"
      },
      "outputs": [
        {
          "output_type": "stream",
          "name": "stdout",
          "text": [
            "[213, 15, 54, 119, 98, 35]\n"
          ]
        }
      ],
      "source": [
        "ids = {'user1': [213, 213, 213, 15, 213],\n",
        "'user2': [54, 54, 119, 119, 119],\n",
        "'user3': [213, 98, 98, 35]}\n",
        "unique_number = []\n",
        "for values_ in ids.values():\n",
        "    for number in values_:\n",
        "        if number not in unique_number:\n",
        "            unique_number.append(number)\n",
        "print(unique_number)"
      ]
    },
    {
      "cell_type": "markdown",
      "source": [
        "###Задание 2\n",
        "Дана переменная, в которой хранится список поисковых запросов пользователя (пример структуры данных приведен ниже). Вам необходимо написать программу, которая выведет на экран распределение количества слов в запросах в требуемом виде.\n"
      ],
      "metadata": {
        "id": "T_WLX4D1jVd_"
      }
    },
    {
      "cell_type": "code",
      "source": [
        "queries = [\n",
        "'смотреть сериалы онлайн',\n",
        "'новости спорта',\n",
        "'афиша кино',\n",
        "'курс доллара',\n",
        "'сериалы этим летом',\n",
        "'курс по питону',\n",
        "'сериалы про спорт'\n",
        "]\n",
        "counter1 = 0\n",
        "counter2 = 0\n",
        "\n",
        "for str_ in queries:\n",
        "    if len(str_.split()) == 2:\n",
        "        counter1 +=1\n",
        "    elif len(str_.split()) == 3:\n",
        "        counter2 +=1\n",
        "\n",
        "print(f'Поисковых запросов, содержащих 2 слов(а): {counter1/len(queries):.2%}\\n'\n",
        "    f'Поисковых запросов, содержащих 2 слов(а): {counter2/len(queries):.2%}')\n"
      ],
      "metadata": {
        "colab": {
          "base_uri": "https://localhost:8080/"
        },
        "id": "-XKeRB5RjaId",
        "outputId": "5a76c2b1-5896-492f-cd7d-a10523f47203"
      },
      "execution_count": null,
      "outputs": [
        {
          "output_type": "stream",
          "name": "stdout",
          "text": [
            "Поисковых запросов, содержащих 2 слов(а): 42.86%\n",
            "Поисковых запросов, содержащих 2 слов(а): 57.14%\n"
          ]
        }
      ]
    },
    {
      "cell_type": "code",
      "source": [
        "queries = [\n",
        "'смотреть сериалы онлайн',\n",
        "'новости спорта',\n",
        "'афиша кино',\n",
        "'курс доллара',\n",
        "'сериалы этим летом',\n",
        "'курс по питону',\n",
        "'сериалы про спорт',\n",
        "'gfgfd gdfgdg gdfgfdg gdfgfd gdgfd'\n",
        "]\n",
        "\n",
        "counter_list = []\n",
        "res = {}\n",
        "\n",
        "for str_ in queries:\n",
        "    counter_list.append(len(str_.split()))\n",
        "for col in counter_list:\n",
        "  if col in res:\n",
        "    res[col] += 1\n",
        "  else:\n",
        "    res[col] = 1\n",
        "\n",
        "for k, v in res.items():\n",
        "  print(f'Поисковых запросов, содержащих {k} слов(а): {v/len(queries):.2%}')\n"
      ],
      "metadata": {
        "colab": {
          "base_uri": "https://localhost:8080/"
        },
        "id": "5y0TVkC3WHRi",
        "outputId": "3b936ff0-2a6d-4822-9450-23c796cd112d"
      },
      "execution_count": null,
      "outputs": [
        {
          "output_type": "stream",
          "name": "stdout",
          "text": [
            "Поисковых запросов, содержащих 3 слов(а): 50.00%\n",
            "Поисковых запросов, содержащих 2 слов(а): 37.50%\n",
            "Поисковых запросов, содержащих 5 слов(а): 12.50%\n"
          ]
        }
      ]
    },
    {
      "cell_type": "markdown",
      "source": [
        "###Задание 3\n",
        "Дана переменная, в которой хранится информация о затратах и доходе рекламных кампаний по различным источникам. Необходимо дополнить исходную структуру показателем ROI, который рассчитаем по формуле: (revenue / cost - 1) * 100\n"
      ],
      "metadata": {
        "id": "RwZub4xUjdE-"
      }
    },
    {
      "cell_type": "code",
      "source": [
        "results = {\n",
        "'vk': {'revenue': 103, 'cost': 98},\n",
        "'yandex': {'revenue': 179, 'cost': 153},\n",
        "'facebook': {'revenue': 103, 'cost': 110},\n",
        "'adwords': {'revenue': 35, 'cost': 34},\n",
        "'twitter': {'revenue': 11, 'cost': 24},\n",
        "}\n",
        "\n",
        "for parametrs in results.values():\n",
        "    parametrs['ROI'] = round((parametrs['revenue']/(parametrs['cost']-1))*100, 2)\n",
        "#print(results)\n",
        "for key, value in results.items():\n",
        "  print('{}: {}'.format(key,value))"
      ],
      "metadata": {
        "colab": {
          "base_uri": "https://localhost:8080/"
        },
        "id": "89TnVsDYjhoz",
        "outputId": "dacee4b9-9be8-45c9-c197-0aa604ddeca9"
      },
      "execution_count": null,
      "outputs": [
        {
          "output_type": "stream",
          "name": "stdout",
          "text": [
            "vk: {'revenue': 103, 'cost': 98, 'ROI': 106.19}\n",
            "yandex: {'revenue': 179, 'cost': 153, 'ROI': 117.76}\n",
            "facebook: {'revenue': 103, 'cost': 110, 'ROI': 94.5}\n",
            "adwords: {'revenue': 35, 'cost': 34, 'ROI': 106.06}\n",
            "twitter: {'revenue': 11, 'cost': 24, 'ROI': 47.83}\n"
          ]
        }
      ]
    },
    {
      "cell_type": "markdown",
      "source": [
        "###Задание 4\n",
        "Дана переменная, в которой хранится статистика рекламных каналов по объемам продаж (пример структуры данных приведен ниже). Напишите программу, которая возвращает название канала с максимальным объемом продаж.\n"
      ],
      "metadata": {
        "id": "tS3z9lpbjnJ1"
      }
    },
    {
      "cell_type": "code",
      "source": [
        "stats = {'facebook': 55, 'yandex': 115, 'vk': 120, 'google': 99, 'email': 42, 'ok': 98}\n",
        "\n",
        "max_value = 0\n",
        "company = ''\n",
        "\n",
        "for name, sales in stats.items():\n",
        "    if sales > max_value:\n",
        "        max_value = sales\n",
        "        company = name\n",
        "\n",
        "print(f'Максимальный объем продаж на рекламном канале: {company}')"
      ],
      "metadata": {
        "colab": {
          "base_uri": "https://localhost:8080/"
        },
        "id": "2OnmiUuHjqmt",
        "outputId": "7d961b8d-3503-4150-e8fa-20e95a85e019"
      },
      "execution_count": null,
      "outputs": [
        {
          "output_type": "stream",
          "name": "stdout",
          "text": [
            "Максимальный объем продаж на рекламном канале: vk\n"
          ]
        }
      ]
    },
    {
      "cell_type": "markdown",
      "source": [
        "###Задание 5 (необязательно)\n",
        "Дан список произвольной длины. Необходимо написать код, который на основе исходного списка составит словарь такого уровня вложенности, какова длина исхондого списка."
      ],
      "metadata": {
        "id": "kTgTN-piju3f"
      }
    },
    {
      "cell_type": "code",
      "source": [
        "my_list = ['a', 'b', 'c', 'd', 'e', 'f']\n",
        "new_my_list = my_list[-1]\n",
        "for i in my_list[-2::-1]:\n",
        "  new_my_list = {i: new_my_list}\n",
        "print(new_my_list)"
      ],
      "metadata": {
        "colab": {
          "base_uri": "https://localhost:8080/"
        },
        "id": "coM2ZRa6j5J7",
        "outputId": "dd19b1fd-32a2-43e3-c168-5dd9d01fcd12"
      },
      "execution_count": null,
      "outputs": [
        {
          "output_type": "stream",
          "name": "stdout",
          "text": [
            "{'a': {'b': {'c': {'d': {'e': 'f'}}}}}\n"
          ]
        }
      ]
    },
    {
      "cell_type": "markdown",
      "source": [
        "###Задание 6 (необязательно)\n",
        "Дана книга рецептов с информацией о том, сколько ингредиентов нужно для приготовления блюда в расчете на одну порцию (пример данных представлен ниже).\n",
        "Напишите программу, которая будет запрашивать у пользователя количество порций для приготовления этих блюд и отображать информацию о суммарном количестве требуемых ингредиентов в указанном виде.\n",
        "####Внимание! \n",
        "Одинаковые ингридиенты с разными размерностями нужно считать раздельно!"
      ],
      "metadata": {
        "id": "N8LM_y0Mk4oZ"
      }
    },
    {
      "cell_type": "code",
      "source": [
        "cook_book = {\n",
        "'салат': [\n",
        "{'ingridient_name': 'сыр', 'quantity': 50, 'measure': 'гр'},\n",
        "{'ingridient_name': 'томаты', 'quantity': 2, 'measure': 'шт'},\n",
        "{'ingridient_name': 'огурцы', 'quantity': 20, 'measure': 'гр'},\n",
        "{'ingridient_name': 'маслины', 'quantity': 10, 'measure': 'гр'},\n",
        "{'ingridient_name': 'оливковое масло', 'quantity': 20, 'measure': 'мл'},\n",
        "{'ingridient_name': 'салат', 'quantity': 10, 'measure': 'гр'},\n",
        "{'ingridient_name': 'перец', 'quantity': 20, 'measure': 'гр'}\n",
        "],\n",
        "'пицца': [\n",
        "{'ingridient_name': 'сыр', 'quantity': 20, 'measure': 'гр'},\n",
        "{'ingridient_name': 'колбаса', 'quantity': 30, 'measure': 'гр'},\n",
        "{'ingridient_name': 'бекон', 'quantity': 30, 'measure': 'гр'},\n",
        "{'ingridient_name': 'оливки', 'quantity': 10, 'measure': 'гр'},\n",
        "{'ingridient_name': 'томаты', 'quantity': 20, 'measure': 'гр'},\n",
        "{'ingridient_name': 'тесто', 'quantity': 100, 'measure': 'гр'},\n",
        "],\n",
        "'лимонад': [\n",
        "{'ingridient_name': 'лимон', 'quantity': 1, 'measure': 'шт'},\n",
        "{'ingridient_name': 'вода', 'quantity': 200, 'measure': 'мл'},\n",
        "{'ingridient_name': 'сахар', 'quantity': 10, 'measure': 'гр'},\n",
        "{'ingridient_name': 'лайм', 'quantity': 20, 'measure': 'гр'},\n",
        "]\n",
        "}\n",
        "\n",
        "count = int(input('Введите количество порций: '))\n",
        "check_list = {}\n",
        "\n",
        "for eat in cook_book.values():\n",
        "  ingridient_list = []\n",
        "  name = []\n",
        "  for ingridients in eat:\n",
        "    ingridients['quantity'] = ingridients['quantity']*count\n",
        "    name = (ingridients['ingridient_name'], ingridients['measure'])\n",
        "    check_list.setdefault(name, 0)\n",
        "    check_list[name] += ingridients['quantity']\n",
        "    \n",
        "for k, v in check_list.items():\n",
        "  print(f'{k[0].title()}: {v} {k[1]}.')"
      ],
      "metadata": {
        "colab": {
          "base_uri": "https://localhost:8080/"
        },
        "id": "3bNZ2AZik_is",
        "outputId": "e1c3f656-e653-444e-b0a0-91450064f4c3"
      },
      "execution_count": null,
      "outputs": [
        {
          "output_type": "stream",
          "name": "stdout",
          "text": [
            "Введите количество порций: 3\n",
            "Сыр: 210 гр.\n",
            "Томаты: 6 шт.\n",
            "Огурцы: 60 гр.\n",
            "Маслины: 30 гр.\n",
            "Оливковое Масло: 60 мл.\n",
            "Салат: 30 гр.\n",
            "Перец: 60 гр.\n",
            "Колбаса: 90 гр.\n",
            "Бекон: 90 гр.\n",
            "Оливки: 30 гр.\n",
            "Томаты: 60 гр.\n",
            "Тесто: 300 гр.\n",
            "Лимон: 3 шт.\n",
            "Вода: 600 мл.\n",
            "Сахар: 30 гр.\n",
            "Лайм: 60 гр.\n"
          ]
        }
      ]
    }
  ]
}