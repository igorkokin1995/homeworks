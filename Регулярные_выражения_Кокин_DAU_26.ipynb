{
  "nbformat": 4,
  "nbformat_minor": 0,
  "metadata": {
    "colab": {
      "provenance": [],
      "authorship_tag": "ABX9TyNrqm0hDQ1HF5ZTmsSas6aA",
      "include_colab_link": true
    },
    "kernelspec": {
      "name": "python3",
      "display_name": "Python 3"
    },
    "language_info": {
      "name": "python"
    }
  },
  "cells": [
    {
      "cell_type": "markdown",
      "metadata": {
        "id": "view-in-github",
        "colab_type": "text"
      },
      "source": [
        "<a href=\"https://colab.research.google.com/github/igorkokin1995/homeworks/blob/main/%D0%A0%D0%B5%D0%B3%D1%83%D0%BB%D1%8F%D1%80%D0%BD%D1%8B%D0%B5_%D0%B2%D1%8B%D1%80%D0%B0%D0%B6%D0%B5%D0%BD%D0%B8%D1%8F_%D0%9A%D0%BE%D0%BA%D0%B8%D0%BD_DAU_26.ipynb\" target=\"_parent\"><img src=\"https://colab.research.google.com/assets/colab-badge.svg\" alt=\"Open In Colab\"/></a>"
      ]
    },
    {
      "cell_type": "markdown",
      "source": [
        "###Задание 1\n",
        "Напишите функцию, которая принимает на вход строку и проверяет является ли она валидным транспортным номером (1 буква, 3 цифры, 2 буквы, 2-3 цифры). Обратите внимание, что не все буквы кириллического алфавита используются в транспортных номерах.\n",
        "\n",
        "Если номер валиден, то функция должна возвращать отдельно номер и регион."
      ],
      "metadata": {
        "id": "lDDw8qkKPPP4"
      }
    },
    {
      "cell_type": "code",
      "execution_count": null,
      "metadata": {
        "id": "Z8zN66SsPIbX"
      },
      "outputs": [],
      "source": [
        "import re"
      ]
    },
    {
      "cell_type": "code",
      "source": [
        "number = 'к243АА234'"
      ],
      "metadata": {
        "id": "mOeZ2mNkSN35"
      },
      "execution_count": null,
      "outputs": []
    },
    {
      "cell_type": "code",
      "source": [
        "def number_verification(gov_number):\n",
        "  result = re.findall(r'[АВЕКМНОРСТУХ]\\d{3}(?<!000)[АВЕКМНОРСТУХ]{2}\\d{2,3}', gov_number, re.IGNORECASE)\n",
        "  if result:\n",
        "    print(f'Номер {result[0][0:6].upper()} валиден. Регион : {result[0][6:]}')\n",
        "  else:\n",
        "    print('Номер не валиден')\n"
      ],
      "metadata": {
        "id": "SCITMwTUWWC9"
      },
      "execution_count": null,
      "outputs": []
    },
    {
      "cell_type": "code",
      "source": [
        "number_verification(number)"
      ],
      "metadata": {
        "colab": {
          "base_uri": "https://localhost:8080/"
        },
        "id": "-vkoRRIuXQtC",
        "outputId": "d4f1f756-ce6a-47f0-b881-818a6890cd97"
      },
      "execution_count": null,
      "outputs": [
        {
          "output_type": "stream",
          "name": "stdout",
          "text": [
            "Номер К243АА валиден. Регион : 234\n"
          ]
        }
      ]
    },
    {
      "cell_type": "markdown",
      "source": [
        "###Задание 2\n",
        "Напишите функцию, которая будет удалять все последовательные повторы слов из заданной строки при помощи регулярных выражений."
      ],
      "metadata": {
        "id": "5a5l333BYkqH"
      }
    },
    {
      "cell_type": "code",
      "source": [
        "some_string = 'Напишите функцию функцию, которая будет будет будет будет удалять все все все все последовательные повторы слов из из из из заданной строки строки при помощи регулярных выражений.'"
      ],
      "metadata": {
        "id": "nOlOKBGsYm5T"
      },
      "execution_count": null,
      "outputs": []
    },
    {
      "cell_type": "code",
      "source": [
        "def double_words(text_):\n",
        "  print(re.sub(r'\\b(\\w+)\\b[\\s\\w]+\\1+', r'\\1', text_))"
      ],
      "metadata": {
        "id": "YwZwEZPBhykK"
      },
      "execution_count": null,
      "outputs": []
    },
    {
      "cell_type": "code",
      "source": [
        "double_words(some_string)"
      ],
      "metadata": {
        "colab": {
          "base_uri": "https://localhost:8080/"
        },
        "id": "Gr9U0uiWh-Wy",
        "outputId": "ebb7b6ae-f05c-4360-b513-45f06d13539e"
      },
      "execution_count": null,
      "outputs": [
        {
          "output_type": "stream",
          "name": "stdout",
          "text": [
            "Напишите функцию, которая будет удалять все последовательные повторы слов из заданной строки при помощи регулярных выражений.\n"
          ]
        }
      ]
    },
    {
      "cell_type": "markdown",
      "source": [
        "###Задание 3\n",
        "Напишите функцию, которая будет возвращать акроним по переданной в нее строке со словами."
      ],
      "metadata": {
        "id": "PbPOpsthiT2b"
      }
    },
    {
      "cell_type": "code",
      "source": [
        "some_words = 'Информационные технологии'"
      ],
      "metadata": {
        "id": "KYkbxbL7iSgq"
      },
      "execution_count": null,
      "outputs": []
    },
    {
      "cell_type": "code",
      "source": [
        "def acronym(words):\n",
        "  print(re.sub(r'\\b(\\w)\\w+\\b\\s*', r'\\1', words).upper())"
      ],
      "metadata": {
        "id": "yGYvI8TSlBUM"
      },
      "execution_count": null,
      "outputs": []
    },
    {
      "cell_type": "code",
      "source": [
        "acronym(some_words)"
      ],
      "metadata": {
        "colab": {
          "base_uri": "https://localhost:8080/"
        },
        "id": "eBaHRRpelbB7",
        "outputId": "52b4e895-b4e7-488e-ddb5-5c1cd8d4df23"
      },
      "execution_count": null,
      "outputs": [
        {
          "output_type": "stream",
          "name": "stdout",
          "text": [
            "ИТ\n"
          ]
        }
      ]
    },
    {
      "cell_type": "markdown",
      "source": [
        "###Задание 4\n",
        "Напишите функцию, которая будет принимать на вход список email-адресов и выводить их распределение по доменным зонам."
      ],
      "metadata": {
        "id": "fXnczrZYlmUE"
      }
    },
    {
      "cell_type": "code",
      "source": [
        "emails = ['test@gmail.com', 'xyz@test.in', 'test@ya.ru', 'xyz@mail.ru', 'xyz@ya.ru', 'xyz@gmail.com']"
      ],
      "metadata": {
        "id": "2NuyQHLElobS"
      },
      "execution_count": null,
      "outputs": []
    },
    {
      "cell_type": "code",
      "source": [
        "def domain_count(addresses):\n",
        "  mail_dict = {}\n",
        "\n",
        "  for email in addresses:\n",
        "    domain = re.sub(r'\\w+(@[a-z]+\\.[a-z]{2,})', r'\\1', email)\n",
        "    mail_dict.setdefault(domain, 0)\n",
        "    mail_dict[domain] +=1\n",
        "\n",
        "  for k, v in mail_dict.items():\n",
        "    print(f'{k}: {v}') "
      ],
      "metadata": {
        "id": "abTcoixMoXho"
      },
      "execution_count": null,
      "outputs": []
    },
    {
      "cell_type": "code",
      "source": [
        "domain_count(emails)"
      ],
      "metadata": {
        "colab": {
          "base_uri": "https://localhost:8080/"
        },
        "id": "F-nfYJAcpn3F",
        "outputId": "023129ad-734f-460f-ca9a-f400ca56c224"
      },
      "execution_count": null,
      "outputs": [
        {
          "output_type": "stream",
          "name": "stdout",
          "text": [
            "@gmail.com: 2\n",
            "@test.in: 1\n",
            "@ya.ru: 2\n",
            "@mail.ru: 1\n"
          ]
        }
      ]
    },
    {
      "cell_type": "markdown",
      "source": [
        "###Задание 5 (необязательное)\n",
        "\n",
        "Напишите функцию, которая будет подсчитывать сколько слов начинается на гласные, а сколько на согласные буквы в тексте (текст может быть написан как с использованием букв кириллицы, так и латиницы)."
      ],
      "metadata": {
        "id": "sqqGq8K4q0jm"
      }
    },
    {
      "cell_type": "code",
      "source": [
        "some_text = 'Эталонной реализацией Python является интерпретатор CPython, '\\\n",
        "            'поддерживающий большинство активно используемых платформ. '\\\n",
        "            'Он распространяется под свободной лицензией Python Software '\\\n",
        "            'Foundation License, позволяющей использовать его без ограничений '\\\n",
        "            'в любых приложениях, включая проприетарные.'"
      ],
      "metadata": {
        "id": "Th0C4naUq27Q"
      },
      "execution_count": null,
      "outputs": []
    },
    {
      "cell_type": "code",
      "source": [
        "def letters(text_):\n",
        "\n",
        "  vowel_letter_ru = ['а', 'и', 'е', 'ё', 'о', 'у', 'ы', 'э', 'ю', 'я']\n",
        "  consonant_letter_ru = ['б', 'в', 'г', 'д', 'ж', 'з', 'й', 'к', 'л', 'м', 'н', 'п', 'р', 'с', 'т', 'ф', 'х', 'ц', 'ч', 'ш', 'щ']\n",
        "  vowel_letter_en = ['a', 'e', 'i', 'o', 'u', 'y']\n",
        "  consonant_letter_en = ['b', 'c', 'd', 'f', 'g', 'h', 'j', 'k', 'l', 'm', 'n', 'p', 'q', 'r', 's', 't', 'v', 'w', 'x', 'z']\n",
        "  vovel = 'гласные'\n",
        "  comsonant = 'согласные'\n",
        "\n",
        "  letter_dict = {vovel: 0, comsonant: 0}\n",
        "\n",
        "  letter = re.sub(r'\\b(\\w)\\w+\\b[\\s,\\.]*', r'\\1', text_).lower()\n",
        "  for i in letter:\n",
        "    if i in vowel_letter_en or i in vowel_letter_ru:\n",
        "      letter_dict[vovel] +=1\n",
        "    elif i in consonant_letter_en or i in consonant_letter_ru:\n",
        "      letter_dict[comsonant] +=1\n",
        "    else:\n",
        "      pass\n",
        "    \n",
        "  for k, v in letter_dict.items():\n",
        "    print(f'Слов на {k} буквы: {v}')"
      ],
      "metadata": {
        "id": "C-I5tkN3rMxN"
      },
      "execution_count": null,
      "outputs": []
    },
    {
      "cell_type": "code",
      "source": [
        "letters(some_text)"
      ],
      "metadata": {
        "colab": {
          "base_uri": "https://localhost:8080/"
        },
        "id": "PtG7-9tPrnjE",
        "outputId": "8736f9ca-10d3-411c-9ad5-3e6fc54e79fc"
      },
      "execution_count": null,
      "outputs": [
        {
          "output_type": "stream",
          "name": "stdout",
          "text": [
            "Слов на гласные буквы: 9\n",
            "Слов на согласные буквы: 21\n"
          ]
        }
      ]
    }
  ]
}