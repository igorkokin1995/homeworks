{
  "nbformat": 4,
  "nbformat_minor": 0,
  "metadata": {
    "colab": {
      "provenance": [],
      "authorship_tag": "ABX9TyP0GTRcWDr6e/ZnAwhfZ19/",
      "include_colab_link": true
    },
    "kernelspec": {
      "name": "python3",
      "display_name": "Python 3"
    },
    "language_info": {
      "name": "python"
    }
  },
  "cells": [
    {
      "cell_type": "markdown",
      "metadata": {
        "id": "view-in-github",
        "colab_type": "text"
      },
      "source": [
        "<a href=\"https://colab.research.google.com/github/igorkokin1995/homeworks/blob/main/%C2%AB%D0%A1%D0%BB%D1%83%D1%87%D0%B0%D0%B9%D0%BD%D1%8B%D0%B5_%D1%81%D0%BE%D0%B1%D1%8B%D1%82%D0%B8%D1%8F_%D0%A1%D0%BB%D1%83%D1%87%D0%B0%D0%B9%D0%BD%D1%8B%D0%B5_%D0%B2%D0%B5%D0%BB%D0%B8%D1%87%D0%B8%D0%BD%D1%8B%C2%BB_%D0%9A%D0%BE%D0%BA%D0%B8%D0%BD_DAU_26.ipynb\" target=\"_parent\"><img src=\"https://colab.research.google.com/assets/colab-badge.svg\" alt=\"Open In Colab\"/></a>"
      ]
    },
    {
      "cell_type": "markdown",
      "source": [
        "Смоделировать игру против лотерейного автомата типа “777”. Игрок платит 1 руб., после чего выпадает случайное целое число, равномерно распределенное от 0 до 999. При некоторых значениях числа игрок получает выигрыш."
      ],
      "metadata": {
        "id": "LkvHN0qOT9kj"
      }
    },
    {
      "cell_type": "markdown",
      "source": [
        "777: 200 руб.\n",
        "\n",
        "999: 100 руб.\n",
        "\n",
        "555: 50 руб.\n",
        "\n",
        "333: 15 руб.\n",
        "\n",
        "111: 10 руб.\n",
        "\n",
        "*77: 5 руб.\n",
        "\n",
        "**7: 3 руб.\n",
        "\n",
        "*00: 2 руб.\n",
        "\n",
        "**0: 1 руб."
      ],
      "metadata": {
        "id": "-BY3zhyMUCN3"
      }
    },
    {
      "cell_type": "markdown",
      "source": [
        "Вопросы:\n",
        "\n",
        "Выгодна ли игра игроку?\n",
        "Сколько в среднем приобретает или теряет игрок за одну игру?\n",
        "\n",
        "**Дополнительное задание повышенной сложности. **\n",
        "\n",
        "Теоретически рассчитать средний выигрыш (проигрыш) и сравнить с результатами моделирования\n",
        "\n",
        "– * любая цифра"
      ],
      "metadata": {
        "id": "kNlWdF8UULce"
      }
    },
    {
      "cell_type": "code",
      "source": [
        "import numpy as np"
      ],
      "metadata": {
        "id": "j_xU3Ae8UK-g"
      },
      "execution_count": null,
      "outputs": []
    },
    {
      "cell_type": "code",
      "execution_count": null,
      "metadata": {
        "id": "zO17Wfg6TzbJ"
      },
      "outputs": [],
      "source": [
        "def slot_machine():\n",
        "    res_of_play = np.random.randint(0,1000)\n",
        "    successes = 0\n",
        "    win = 0\n",
        "    \n",
        "    if res_of_play == 777:\n",
        "        successes += 1\n",
        "        win += 200\n",
        "    elif res_of_play == 999:\n",
        "        successes += 1\n",
        "        win += 100\n",
        "    elif res_of_play == 555:\n",
        "        successes += 1\n",
        "        win += 50\n",
        "    elif res_of_play == 333:\n",
        "        successes += 1\n",
        "        win += 15  \n",
        "    elif res_of_play == 111:\n",
        "        successes += 1\n",
        "        win += 100\n",
        "    elif (res_of_play % 100) == 77:\n",
        "        successes += 1\n",
        "        win += 5\n",
        "    elif (res_of_play % 10) == 7:\n",
        "        successes += 1\n",
        "        win += 3\n",
        "    elif (res_of_play % 100) == 0:\n",
        "        successes += 1\n",
        "        win += 2\n",
        "    elif (res_of_play % 10) == 0:\n",
        "        successes += 1\n",
        "        win += 1\n",
        "    return(successes, win)"
      ]
    },
    {
      "cell_type": "code",
      "source": [
        "def play(trials):\n",
        "    s = 0\n",
        "    w = 0\n",
        "    \n",
        "    for i in range(trials):\n",
        "        successes, win = slot_machine()\n",
        "        s += successes\n",
        "        w += win\n",
        "    \n",
        "    p_monte_carlo = s / trials\n",
        "    w_monte_carlo = w / trials\n",
        "    \n",
        "    print(f'Кол-во попыток: {trials}\\n'\n",
        "            f'Кол-во выигрышей: {s}\\n'\n",
        "            f'Потрачено: {trials} рублей\\n'\n",
        "            f'Выиграно: {w} рублей\\n'\n",
        "            f'Вероятность выиграть: {round((p_monte_carlo*100),2)}%\\n'\n",
        "            f'Средний выигрыш на 1 затраченный рубль: {round(w_monte_carlo,2)} рублей\\n')"
      ],
      "metadata": {
        "id": "X9rEe6BFUvck"
      },
      "execution_count": null,
      "outputs": []
    },
    {
      "cell_type": "code",
      "source": [
        "play(1000000)"
      ],
      "metadata": {
        "colab": {
          "base_uri": "https://localhost:8080/"
        },
        "id": "HWqw8hMTU852",
        "outputId": "e383189f-1355-4eb4-f306-a4d4b40f0dd5"
      },
      "execution_count": null,
      "outputs": [
        {
          "output_type": "stream",
          "name": "stdout",
          "text": [
            "Кол-во попыток: 1000000\n",
            "Кол-во выигрышей: 203471\n",
            "Потрачено: 1000000 рублей\n",
            "Выиграно: 888142 рублей\n",
            "Вероятность выиграть: 20.35%\n",
            "Средний выигрыш на 1 затраченный рубль: 0.89 рублей\n",
            "\n"
          ]
        }
      ]
    },
    {
      "cell_type": "markdown",
      "source": [
        "##Теоретический подсчет:"
      ],
      "metadata": {
        "id": "TmxHUxCLVED1"
      }
    },
    {
      "cell_type": "code",
      "source": [
        "w = 200*0.001 + 100*0.001 + 50*0.001 + 15*0.001 + 10*0.001 + 5*0.01 + 3*0.091 + 2*0.009 + 1*0.091\n",
        "print('По формуле полной вероятности:\\n'\n",
        "    f'В среднем на одну попытку стоимостью 1 руб. проигрыш составляет {round((1-w),2)} рублей')\n",
        "\n",
        "p = 1*0.001 + 1*0.001 + 1*0.001 + 1*0.001 + 1*0.001 + 1*0.01 + 1*0.091 + 1*0.009 + 1*0.091\n",
        "print(f'Вероятность выигрыша по формуле полной вероятности: {round((p*100),1)}%')"
      ],
      "metadata": {
        "colab": {
          "base_uri": "https://localhost:8080/"
        },
        "id": "D1ec-Rg6VGXt",
        "outputId": "6253661b-225b-431a-da28-02455fd5179a"
      },
      "execution_count": null,
      "outputs": [
        {
          "output_type": "stream",
          "name": "stdout",
          "text": [
            "По формуле полной вероятности:\n",
            "В среднем на одну попытку стоимостью 1 руб. проигрыш составляет 0.19 рублей\n",
            "Вероятность выигрыша по формуле полной вероятности: 20.6%\n"
          ]
        }
      ]
    }
  ]
}
