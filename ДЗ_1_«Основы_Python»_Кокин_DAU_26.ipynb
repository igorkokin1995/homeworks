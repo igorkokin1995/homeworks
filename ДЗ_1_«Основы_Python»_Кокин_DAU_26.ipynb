{
  "nbformat": 4,
  "nbformat_minor": 0,
  "metadata": {
    "colab": {
      "provenance": [],
      "authorship_tag": "ABX9TyNNRD2CDQMt+CkCxGXkjHWi",
      "include_colab_link": true
    },
    "kernelspec": {
      "name": "python3",
      "display_name": "Python 3"
    },
    "language_info": {
      "name": "python"
    }
  },
  "cells": [
    {
      "cell_type": "markdown",
      "metadata": {
        "id": "view-in-github",
        "colab_type": "text"
      },
      "source": [
        "<a href=\"https://colab.research.google.com/github/igorkokin1995/homeworks/blob/main/%D0%94%D0%97_1_%C2%AB%D0%9E%D1%81%D0%BD%D0%BE%D0%B2%D1%8B_Python%C2%BB_%D0%9A%D0%BE%D0%BA%D0%B8%D0%BD_DAU_26.ipynb\" target=\"_parent\"><img src=\"https://colab.research.google.com/assets/colab-badge.svg\" alt=\"Open In Colab\"/></a>"
      ]
    },
    {
      "cell_type": "markdown",
      "source": [
        "###Задание 1\n",
        "Даны 2 переменных, в которых хранятся строки произвольной длины: phrase_1 и phrase_2.\n",
        "Напишите код, который проверяет какая из этих строк длиннее."
      ],
      "metadata": {
        "id": "Vt1mM_w1h3BP"
      }
    },
    {
      "cell_type": "code",
      "source": [
        "phrase_1 = 'Насколько проще было бы писать программы, если бы не заказчики'\n",
        "phrase_2 = '640Кб должно хватить для любых задач. Билл Гейтс (по легенде)'"
      ],
      "metadata": {
        "id": "6Jl6apfUh88r"
      },
      "execution_count": null,
      "outputs": []
    },
    {
      "cell_type": "code",
      "source": [
        "if len(phrase_1) > len(phrase_2):\n",
        "  print('Фраза 1 длиннее, чем фраза 2')\n",
        "elif len(phrase_1) < len(phrase_2):\n",
        "  print('Фраза 2 длиннее, чем фраза 1')\n",
        "else:\n",
        "  print('Длины фраз равны')  "
      ],
      "metadata": {
        "colab": {
          "base_uri": "https://localhost:8080/"
        },
        "id": "nzDV8PG4iv1l",
        "outputId": "f5cc95c4-b175-4247-cc71-6271a1b0f98b"
      },
      "execution_count": null,
      "outputs": [
        {
          "output_type": "stream",
          "name": "stdout",
          "text": [
            "Фраза 2 длиннее, чем фраза 1\n"
          ]
        }
      ]
    },
    {
      "cell_type": "markdown",
      "source": [
        "###Задание 2\n",
        "Дана переменная, в которой хранится четырехзначное число (год). Необходимо написать программу, которая выведет, является ли данный год високосным или обычным."
      ],
      "metadata": {
        "id": "Sah6KB2Sjb5T"
      }
    },
    {
      "cell_type": "code",
      "source": [
        "year = 2022"
      ],
      "metadata": {
        "id": "4nYc9i08jhCU"
      },
      "execution_count": null,
      "outputs": []
    },
    {
      "cell_type": "code",
      "source": [
        "if year % 4 == 0 and year % 100 !=0:\n",
        "  print('Год високосный')\n",
        "elif year % 100 == 0 and year % 400 ==0:\n",
        "  print('Год високосный')\n",
        "else:\n",
        "  print('Год не високосный')"
      ],
      "metadata": {
        "colab": {
          "base_uri": "https://localhost:8080/"
        },
        "id": "CdAUWmJFkJWK",
        "outputId": "4f0dd7a1-ebf1-4819-eb79-2c4f5962c2cb"
      },
      "execution_count": null,
      "outputs": [
        {
          "output_type": "stream",
          "name": "stdout",
          "text": [
            "Год високосный\n"
          ]
        }
      ]
    },
    {
      "cell_type": "markdown",
      "source": [
        "###Задание 3\n",
        "Необходимо написать программу, которая будет запрашивать у пользователя месяц и дату рождения и выводить соответствующий знак зодиака.\n",
        "\n",
        "Пример работы программы:"
      ],
      "metadata": {
        "id": "yjzyc_1Sk99m"
      }
    },
    {
      "cell_type": "code",
      "source": [
        "birthday = int(input('Введите день вашего рождения - '))\n",
        "mounth = input('Введите месяц вашего рождения (c заглавной буквы)- ')\n",
        "if (31 >= birthday >= 22 and mounth == 'Декабрь') or (20 >= birthday >= 1 and mounth == 'Январь'):\n",
        "  print('Вы Козерог')\n",
        "elif (30 >= birthday >= 21 and mounth == 'Январь') or (19 >= birthday >= 1 and mounth == 'Февраль'):\n",
        "  print('Вы Водолей')\n",
        "elif (29 >= birthday >= 20 and mounth == 'Февраль') or (20 >= birthday >= 1 and mounth == 'Март'):\n",
        "  print('Вы Рыбы')  \n",
        "elif (31 >= birthday >= 21 and mounth == 'Март') or (20 >= birthday >= 1 and mounth == 'Апрель'):\n",
        "  print('Вы Овен')    \n",
        "elif (30 >= birthday >= 21 and mounth == 'Апрель') or (20 >= birthday >= 1 and mounth == 'Май'):\n",
        "  print('Вы Телец')\n",
        "elif (31 >= birthday >= 21 and mounth == 'Май') or (21 >= birthday >= 1 and mounth == 'Июнь'):\n",
        "  print('Вы Близнецы')  \n",
        "elif (30 >= birthday >= 22 and mounth == 'Июнь') or (22 >= birthday >= 1 and mounth == 'Июль'):\n",
        "  print('Вы Рак')\n",
        "elif (31 >= birthday >= 23 and mounth == 'Июль') or (23 >= birthday >= 1 and mounth == 'Август'):\n",
        "  print('Вы Лев')\n",
        "elif (31 >= birthday >= 24 and mounth == 'Август') or (23 >= birthday >= 1 and mounth == 'Сентябрь'):\n",
        "  print('Вы Дева')\n",
        "elif (30 >= birthday >= 24 and mounth == 'Сентябрь') or (23 >= birthday >= 1 and mounth == 'Октябрь'):\n",
        "  print('Вы Весы')\n",
        "elif (31>= birthday >= 24 and mounth == 'Октябрь') or (22 >= birthday >= 1 and mounth == 'Ноябрь'):\n",
        "  print('Вы Скорпион')\n",
        "elif (30 >= birthday >= 23 and mounth == 'Ноябрь') or (21 >= birthday >= 1 and mounth == 'Декабрь'):\n",
        "  print('Вы Срелец')\n",
        "else:\n",
        "  print('Некорректный ввод!')"
      ],
      "metadata": {
        "colab": {
          "base_uri": "https://localhost:8080/"
        },
        "id": "ACgd6rG6lAfN",
        "outputId": "570783e9-14cb-4923-b641-d083260ffe7a"
      },
      "execution_count": null,
      "outputs": [
        {
          "output_type": "stream",
          "name": "stdout",
          "text": [
            "Введите день вашего рождения - 19\n",
            "Введите месяц вашего рождения (c заглавной буквы)- Январь\n",
            "Вы Козерог\n"
          ]
        }
      ]
    },
    {
      "cell_type": "markdown",
      "source": [
        "###Задание 4\n",
        "Вам нужно написать программу для подбора упаковок по размерам товара. Размеры (ширина, длина, высота) хранятся в переменных (в сантиметрах):\n",
        "\n",
        "Используйте следующие правила:\n",
        "\n",
        "если каждое из трех измерений менее или равно 15 сантиметрам, то выведите на экран “Коробка №1”;\n",
        "если хотя бы одно из измерений больше 15 сантиметров, но менее 50 сантиметров, то выводите “Коробка №2”;\n",
        "если длина товара больше 2 метров, то выводите “Упаковка для лыж”;\n",
        "во всех остальных случаях выводите “Стандартная коробка №3”.\n",
        "Пример работы программы:"
      ],
      "metadata": {
        "id": "3BtA2OGPsIIM"
      }
    },
    {
      "cell_type": "code",
      "source": [
        "width = int(input('Введите ширину (в сантиметрах) - '))\n",
        "length = int(input('Введите длину (в сантиметрах) - '))\n",
        "height = int(input('Введите высоту (в сантиметрах) - '))\n",
        "if width <=15 and length <= 15 and height <=15:\n",
        "  print('Коробка №1')\n",
        "elif (15 < width <50 or 15 < length < 50 or 15 < height <50) and length <= 200:\n",
        "  print('Коробка №2')\n",
        "elif length > 200:\n",
        "  print('Упаковка для лыж')\n",
        "else:\n",
        "  print('Стандартная коробка №3')"
      ],
      "metadata": {
        "colab": {
          "base_uri": "https://localhost:8080/"
        },
        "id": "nRvWEzM6sKBn",
        "outputId": "bc43e275-e507-484e-d1b5-17e3fd84cc2e"
      },
      "execution_count": null,
      "outputs": [
        {
          "output_type": "stream",
          "name": "stdout",
          "text": [
            "Введите ширину (в сантиметрах) - 20\n",
            "Введите длину (в сантиметрах) - 12\n",
            "Введите высоту (в сантиметрах) - 2\n",
            "Коробка №2\n"
          ]
        }
      ]
    },
    {
      "cell_type": "markdown",
      "source": [
        "###Задание 5 (необязательное)\n",
        "Дана переменная, в которой хранится шестизначное число (номер проездного билета). Напишите программу, которая будет определять, является ли данный билет “счастливым”.\n",
        "Билет считается счастливым, если сумма первых трех цифр совпадает с суммой последних трех цифр номера."
      ],
      "metadata": {
        "id": "0G4j2RM-vfNY"
      }
    },
    {
      "cell_type": "code",
      "source": [
        "number = int(input('Введите шестизначное число - '))\n",
        "part_1 = number//1000\n",
        "one = part_1//100\n",
        "two = (part_1//10)%10\n",
        "three = part_1%10\n",
        "part_2 = number%1000 \n",
        "four = part_2//100\n",
        "five = (part_2//10)%10\n",
        "six = part_2%10\n",
        "if one + two + three == four + five + six:\n",
        "  print('Счастливый билет')\n",
        "else:\n",
        "  print('Несчастливый билет')"
      ],
      "metadata": {
        "colab": {
          "base_uri": "https://localhost:8080/"
        },
        "id": "_8bl7sWKviVm",
        "outputId": "03cb8108-da53-44a0-90e6-87c71e99bc53"
      },
      "execution_count": null,
      "outputs": [
        {
          "output_type": "stream",
          "name": "stdout",
          "text": [
            "Введите шестизначное число - 123321\n",
            "Счастливый билет\n"
          ]
        }
      ]
    },
    {
      "cell_type": "markdown",
      "source": [
        "###Задание 6 (необязательное)\n",
        "Напишите программу, которая сможет вычислять площади трех фигур (круг, треугольник и прямоугольник). Тип фигуры запрашиваем через пользовательский ввод, после чего делаем запрос характеристик фигуры:\n",
        "\n",
        "если пользователь выбрал круг, запрашиваем его радиус,\n",
        "если треугольник – длины трех его сторон;\n",
        "если прямоугольник – длины двух его сторон."
      ],
      "metadata": {
        "id": "-rp_9I-I0n-z"
      }
    },
    {
      "cell_type": "code",
      "source": [
        "from os import SCHED_FIFO\n",
        "type_of_object = input('Введите тип фигуры: ')\n",
        "if type_of_object == 'круг':\n",
        "  r = int(input('Введите радиус '))\n",
        "  S = 3.14*r**2\n",
        "  print(S)\n",
        "elif type_of_object == 'треугольник':\n",
        "  a = int(input('Введите сторону а '))\n",
        "  b = int(input('Введите сторону b '))\n",
        "  c = int(input('Введите сторону c '))\n",
        "  p = (a+b+c)/2\n",
        "  S = (p*(p-a)*(p-b)*(p-c))**0.5\n",
        "  print(S)\n",
        "elif type_of_object == 'прямоугольник':\n",
        "  a = int(input('Введите сторону а '))\n",
        "  b = int(input('Введите сторону b ')) \n",
        "  S = a*b\n",
        "  print(S)\n",
        "else:\n",
        "  print('некорректный ввод')"
      ],
      "metadata": {
        "colab": {
          "base_uri": "https://localhost:8080/"
        },
        "id": "7lQm0z4K0smB",
        "outputId": "2d8078b7-f74b-446c-a8ea-671c7e362f56"
      },
      "execution_count": null,
      "outputs": [
        {
          "output_type": "stream",
          "name": "stdout",
          "text": [
            "Введите тип фигуры: круг\n",
            "Введите радиус 1\n",
            "3.14\n"
          ]
        }
      ]
    }
  ]
}