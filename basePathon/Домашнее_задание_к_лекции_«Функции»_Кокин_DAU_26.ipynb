{
  "nbformat": 4,
  "nbformat_minor": 0,
  "metadata": {
    "colab": {
      "provenance": [],
      "authorship_tag": "ABX9TyPB32G9LCpsLUYTsCltCX7J",
      "include_colab_link": true
    },
    "kernelspec": {
      "name": "python3",
      "display_name": "Python 3"
    },
    "language_info": {
      "name": "python"
    }
  },
  "cells": [
    {
      "cell_type": "markdown",
      "metadata": {
        "id": "view-in-github",
        "colab_type": "text"
      },
      "source": [
        "<a href=\"https://colab.research.google.com/github/igorkokin1995/homeworks/blob/main/%D0%94%D0%BE%D0%BC%D0%B0%D1%88%D0%BD%D0%B5%D0%B5_%D0%B7%D0%B0%D0%B4%D0%B0%D0%BD%D0%B8%D0%B5_%D0%BA_%D0%BB%D0%B5%D0%BA%D1%86%D0%B8%D0%B8_%C2%AB%D0%A4%D1%83%D0%BD%D0%BA%D1%86%D0%B8%D0%B8%C2%BB_%D0%9A%D0%BE%D0%BA%D0%B8%D0%BD_DAU_26.ipynb\" target=\"_parent\"><img src=\"https://colab.research.google.com/assets/colab-badge.svg\" alt=\"Open In Colab\"/></a>"
      ]
    },
    {
      "cell_type": "markdown",
      "source": [
        "Исходные данные имеют следующую структуру:"
      ],
      "metadata": {
        "id": "7kTfaHE2srsT"
      }
    },
    {
      "cell_type": "markdown",
      "source": [
        "1. Перечень всех документов"
      ],
      "metadata": {
        "id": "hi0JVjkgswWV"
      }
    },
    {
      "cell_type": "code",
      "execution_count": null,
      "metadata": {
        "id": "gmd3MxDasd71"
      },
      "outputs": [],
      "source": [
        "documents = [\n",
        "{'type': 'passport', 'number': '2207 876234', 'name': 'Василий Гупкин'},\n",
        "{'type': 'invoice', 'number': '11-2', 'name': 'Геннадий Покемонов'},\n",
        "{'type': 'insurance', 'number': '10006', 'name': 'Аристарх Павлов'}\n",
        "]"
      ]
    },
    {
      "cell_type": "markdown",
      "source": [
        "2. Перечень полок, на которых хранятся документы (если документ есть в documents, то он обязательно должен быть и в directories)"
      ],
      "metadata": {
        "id": "W_2_u3_8tLZZ"
      }
    },
    {
      "cell_type": "code",
      "source": [
        "directories = {\n",
        "'1': ['2207 876234', '11-2'],\n",
        "'2': ['10006'],\n",
        "'3': []\n",
        "}"
      ],
      "metadata": {
        "id": "AlNAbnyetPsT"
      },
      "execution_count": null,
      "outputs": []
    },
    {
      "cell_type": "markdown",
      "source": [
        "####Общие требования к программе:\n",
        "\n",
        "код должен быть грамотно декомпозирован (каждая функция отвечает за свою конкретную задачу, дублирующийся функционал переиспользуется, а его код не повторяется);\n",
        "в коде отсутствуют глобальные переменные (за исключением documents и directories);\n",
        "пользовательский ввод обрабатывается в цикле while до тех пор, пока пользователь явно не завершит программу (вводом команды “q”)"
      ],
      "metadata": {
        "id": "SqWyCLXytcCy"
      }
    },
    {
      "cell_type": "markdown",
      "source": [
        "###**Задание 1\n",
        "Пункт 1. Пользователь по команде “p” может узнать владельца документа по его номеру\n",
        "Примеры работы:"
      ],
      "metadata": {
        "id": "cRkxXvH0tow3"
      }
    },
    {
      "cell_type": "code",
      "source": [
        "def owner():\n",
        "  doc_num = input('Введите номер документа: ')\n",
        "  for  str_ in documents:\n",
        "    if str_['number'] == doc_num:\n",
        "      print(f'Владелец документа: {str_[\"name\"]}\\n'\n",
        "            '')\n",
        "      break\n",
        "  else: \n",
        "    print('Документ не найден в базе\\n'\n",
        "          '')   "
      ],
      "metadata": {
        "id": "0swWcNcStsCR"
      },
      "execution_count": null,
      "outputs": []
    },
    {
      "cell_type": "markdown",
      "source": [
        "###Пункт 2.\n",
        " Пользователь по команде “s” может по номеру документа узнать на какой полке он хранится"
      ],
      "metadata": {
        "id": "3muFxvL4xCGv"
      }
    },
    {
      "cell_type": "code",
      "source": [
        "def shelf():\n",
        "   doc_num = input('Введите номер документа: ')\n",
        "   for k, v in directories.items():\n",
        "     if doc_num in v:\n",
        "       print(f'Документ хранится на полке: {k}\\n'\n",
        "            '')\n",
        "       break\n",
        "   else:\n",
        "     print('Документ не найден в базе\\n'\n",
        "          '')  "
      ],
      "metadata": {
        "id": "_fgqvClJxByF"
      },
      "execution_count": null,
      "outputs": []
    },
    {
      "cell_type": "markdown",
      "source": [
        "###Пункт 3. \n",
        "Пользователь по команде “l” может увидеть полную информацию по всем документам"
      ],
      "metadata": {
        "id": "DMSYa67GyeJv"
      }
    },
    {
      "cell_type": "code",
      "source": [
        "def info():\n",
        "  for str_ in documents:\n",
        "    for k, v in directories.items():\n",
        "      if str_['number'] in v:\n",
        "        print(f'№: {str_[\"number\"]}, тип: {str_[\"type\"]}, владелец: {str_[\"name\"]}, полка хранения: {k}')\n",
        "  print()"
      ],
      "metadata": {
        "id": "MQ3RDmaoyd0N"
      },
      "execution_count": null,
      "outputs": []
    },
    {
      "cell_type": "markdown",
      "source": [
        "###Пункт 4. \n",
        "Пользователь по команде “ads” может добавить новую полку"
      ],
      "metadata": {
        "id": "WwCtey1Hz6b2"
      }
    },
    {
      "cell_type": "code",
      "source": [
        "def add():\n",
        "  shelf_num = input('Введите номер полки: ')\n",
        "  for keys in directories.keys():\n",
        "    if shelf_num == keys:\n",
        "      print(f'Такая полка уже существует. Текущий перечень полок: {list(directories.keys())}\\n'\n",
        "      '')\n",
        "      break\n",
        "  else:\n",
        "    directories.setdefault(shelf_num, [])\n",
        "    print(f'Полка добавлена. Текущий перечень полок: {list(directories.keys())}\\n'\n",
        "    '')"
      ],
      "metadata": {
        "id": "dduAjXV50n_u"
      },
      "execution_count": null,
      "outputs": []
    },
    {
      "cell_type": "markdown",
      "source": [
        "###Пункт 5. \n",
        "Пользователь по команде “ds” может удалить существующую полку из данных (только если она пустая)"
      ],
      "metadata": {
        "id": "Rc5YegE53j-A"
      }
    },
    {
      "cell_type": "code",
      "source": [
        "def del_shelf():\n",
        "  shelf_num = input('Введите номер полки: ')\n",
        "  for k, v in directories.items():\n",
        "    if shelf_num == k:\n",
        "      if v == []:\n",
        "        del(directories[k])\n",
        "        print(f'Полка удалена. Текущий перечень полок: {list(directories.keys())}\\n'\n",
        "        '')\n",
        "        break\n",
        "      else:\n",
        "        print(f'На полке есть документа, удалите их перед удалением полки. Текущий перечень полок: {list(directories.keys())}\\n'\n",
        "        '')\n",
        "        break\n",
        "  else:\n",
        "    print(f'Такой полки не существует. Текущий перечень полок: {list(directories.keys())}\\n'\n",
        "    '')"
      ],
      "metadata": {
        "id": "GTOsdUxV3mtN"
      },
      "execution_count": null,
      "outputs": []
    },
    {
      "cell_type": "markdown",
      "source": [
        "###Основная функция"
      ],
      "metadata": {
        "id": "f2eB_O8Z_AzF"
      }
    },
    {
      "cell_type": "code",
      "source": [
        "def main():\n",
        "  print(\n",
        "      'Текущий перечень команд:\\n'\n",
        "      '“p” - узнать владельца документа\\n'\n",
        "      '“s” - по номеру документа узнать на какой полке он хранится\\n'\n",
        "      '“l” - увидеть полную информацию по всем документам\\n'\n",
        "      '“ads” - добавить новую полку\\n'\n",
        "      '“ds” - удалить существующую полку из данных (только если она пустая)\\n'\n",
        "      '“q” - завершить программу'\n",
        "      '“ad” - добавить новый документ в данные'\n",
        "      '“d” - удалить документ из данных'\n",
        "      '“m” может переместить документ с полки на полку'\n",
        "        )\n",
        "  print()\n",
        "  command = ''\n",
        "  while command != 'q':\n",
        "    command = input('Введите команду: ')\n",
        "    if command == 'p':\n",
        "      owner()\n",
        "    elif command == 's':\n",
        "      shelf()\n",
        "    elif command == 'l':\n",
        "      info()\n",
        "    elif command == 'ads':\n",
        "      add()\n",
        "    elif command == 'ds':\n",
        "      del_shelf()\n",
        "    elif command == 'ad':\n",
        "      add_doc()\n",
        "    elif command == 'd':\n",
        "      del_doc()\n",
        "    elif command == 'm':\n",
        "      relocate()\n",
        "    elif command == 'q':\n",
        "      print('Вы завершили программу')\n",
        "      break\n",
        "    else:\n",
        "      print('Такой команды не существует!\\n'\n",
        "            'Смотри список команд.\\n'\n",
        "            '')"
      ],
      "metadata": {
        "id": "rJVoc2U141K_"
      },
      "execution_count": null,
      "outputs": []
    },
    {
      "cell_type": "code",
      "source": [
        "main()"
      ],
      "metadata": {
        "colab": {
          "base_uri": "https://localhost:8080/"
        },
        "id": "KjOul5iY7bSG",
        "outputId": "6374910e-474a-4e55-f8c3-13b6eb251467"
      },
      "execution_count": null,
      "outputs": [
        {
          "output_type": "stream",
          "name": "stdout",
          "text": [
            "Текущий перечень команд:\n",
            "“p” - узнать владельца документа\n",
            "“s” - по номеру документа узнать на какой полке он хранится\n",
            "“l” - увидеть полную информацию по всем документам\n",
            "“ads” - добавить новую полку\n",
            "“ds” - удалить существующую полку из данных (только если она пустая)\n",
            "“q” - завершить программу\n",
            "\n",
            "Введите команду: l\n",
            "№: 2207 876234, тип: passport, владелец: Василий Гупкин, полка хранения: 1\n",
            "№: 11-2, тип: invoice, владелец: Геннадий Покемонов, полка хранения: 1\n",
            "№: 10006, тип: insurance, владелец: Аристарх Павлов, полка хранения: 2\n",
            "\n",
            "Введите команду: s\n",
            "Введите номер документа: 10006\n",
            "Документ хранится на полке: 2\n",
            "\n",
            "Введите команду: q\n",
            "Вы завершили программу\n"
          ]
        }
      ]
    },
    {
      "cell_type": "markdown",
      "source": [
        "##Задание 2 (необязательное)\n",
        "Вам необходимо дополнить программу из задания 1 более продвинутыми командами."
      ],
      "metadata": {
        "id": "BfuF6BHVAPYd"
      }
    },
    {
      "cell_type": "markdown",
      "source": [
        "###Пункт 1. \n",
        "Пользователь по команде “ad” может добавить новый документ в данные"
      ],
      "metadata": {
        "id": "CRpJxGReASot"
      }
    },
    {
      "cell_type": "code",
      "source": [
        "def add_doc():\n",
        "  doc_num = input('Введите номер документа: ')\n",
        "  doc_type = input('Ввведите тип документа: ')\n",
        "  doc_owner = input('Введите владельца документа: ')\n",
        "  doc_shelf = str(input('Введите полку для хранения: '))\n",
        "\n",
        "  for k, v in directories.items():\n",
        "    if k == doc_shelf:\n",
        "        new_dict = {}\n",
        "        new_dict.setdefault('type', doc_type)\n",
        "        new_dict.setdefault('number', doc_num)\n",
        "        new_dict.setdefault('name', doc_owner)\n",
        "        documents.append(new_dict)\n",
        "        v.append(doc_num)\n",
        "        print('Документ добавлен.\\n'\n",
        "              'Текущий список документов:\\n'\n",
        "              '')\n",
        "        info()\n",
        "        break\n",
        "  else:\n",
        "    print('Такой полки не существует. Добавьте полку командой as.\\n'\n",
        "          'Текущий список документов:\\n'\n",
        "          '')\n",
        "    info()  "
      ],
      "metadata": {
        "id": "3MxXb_BwAcZA"
      },
      "execution_count": null,
      "outputs": []
    },
    {
      "cell_type": "markdown",
      "source": [
        "###Пункт 2. \n",
        "Пользователь по команде “d” может удалить документ из данных"
      ],
      "metadata": {
        "id": "IhOQA2DEI2eA"
      }
    },
    {
      "cell_type": "code",
      "source": [
        "def del_doc():\n",
        "  doc_num = str(input('Введите номер документа: '))\n",
        "\n",
        "  doc_copy = documents.copy()\n",
        "\n",
        "  for str_ in doc_copy:\n",
        "    if str_['number'] == doc_num:\n",
        "      documents.remove(str_)\n",
        "      for shelf in directories.values():\n",
        "        if doc_num in shelf:\n",
        "          shelf.remove(doc_num)\n",
        "      print('Документ удален.\\n'\n",
        "            'Текущий список документов:\\n'\n",
        "            '')\n",
        "      info()\n",
        "      break\n",
        "  else:\n",
        "   print('Документ не найден в базе.\\n'\n",
        "        'Текущий список документов:\\n'\n",
        "        '')\n",
        "   info() \n"
      ],
      "metadata": {
        "id": "_tL2B-rGJCUZ"
      },
      "execution_count": null,
      "outputs": []
    },
    {
      "cell_type": "markdown",
      "source": [
        "###Пункт 3. \n",
        "Пользователь по команде “m” может переместить документ с полки на полку"
      ],
      "metadata": {
        "id": "JlwUze6N4F51"
      }
    },
    {
      "cell_type": "code",
      "source": [
        "def relocate():\n",
        "  doc_num = str(input('Введите номер документа: '))\n",
        "  doc_shelf = str(input('Введите полку для хранения: '))\n",
        "\n",
        "  for k, v in directories.items():\n",
        "    if doc_num in v and doc_shelf in list(directories.keys()):\n",
        "       v.remove(doc_num)\n",
        "       directories[doc_shelf].append(doc_num)\n",
        "       print('Документ перемещен.\\n'\n",
        "            'Текущий список документов:\\n'\n",
        "            '')\n",
        "       info()\n",
        "       break\n",
        "  else:\n",
        "    if doc_num in v and doc_shelf not in list(directories.keys()):\n",
        "       print(f'Такой полки не существует. Текущий перечень полок: {list(directories.keys())}\\n'\n",
        "            '')   \n",
        "       \n",
        "    elif doc_num not in v and doc_shelf in list(directories.keys()):\n",
        "       print('Документ не найден в базе.\\n'\n",
        "        'Текущий список документов:\\n'\n",
        "        '')\n",
        "       info()\n",
        "       \n",
        "    else:   \n",
        "      print('Документ не найден в базе.\\n'\n",
        "            'Текущий список документов:\\n')\n",
        "      info()\n",
        "      print(f'Такой полки не существует. Текущий перечень полок: {list(directories.keys())}\\n'\n",
        "            '')\n",
        "    "
      ],
      "metadata": {
        "id": "V1bAKUieS-45"
      },
      "execution_count": null,
      "outputs": []
    }
  ]
}
