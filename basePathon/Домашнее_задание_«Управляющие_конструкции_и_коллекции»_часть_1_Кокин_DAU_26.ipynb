{
  "nbformat": 4,
  "nbformat_minor": 0,
  "metadata": {
    "colab": {
      "provenance": [],
      "authorship_tag": "ABX9TyMbP4zeo5h7U5INpciSgWpu",
      "include_colab_link": true
    },
    "kernelspec": {
      "name": "python3",
      "display_name": "Python 3"
    },
    "language_info": {
      "name": "python"
    }
  },
  "cells": [
    {
      "cell_type": "markdown",
      "metadata": {
        "id": "view-in-github",
        "colab_type": "text"
      },
      "source": [
        "<a href=\"https://colab.research.google.com/github/igorkokin1995/homeworks/blob/main/%D0%94%D0%BE%D0%BC%D0%B0%D1%88%D0%BD%D0%B5%D0%B5_%D0%B7%D0%B0%D0%B4%D0%B0%D0%BD%D0%B8%D0%B5_%C2%AB%D0%A3%D0%BF%D1%80%D0%B0%D0%B2%D0%BB%D1%8F%D1%8E%D1%89%D0%B8%D0%B5_%D0%BA%D0%BE%D0%BD%D1%81%D1%82%D1%80%D1%83%D0%BA%D1%86%D0%B8%D0%B8_%D0%B8_%D0%BA%D0%BE%D0%BB%D0%BB%D0%B5%D0%BA%D1%86%D0%B8%D0%B8%C2%BB_%D1%87%D0%B0%D1%81%D1%82%D1%8C_1_%D0%9A%D0%BE%D0%BA%D0%B8%D0%BD_DAU_26.ipynb\" target=\"_parent\"><img src=\"https://colab.research.google.com/assets/colab-badge.svg\" alt=\"Open In Colab\"/></a>"
      ]
    },
    {
      "cell_type": "markdown",
      "source": [
        "###Задание 1\n",
        "Дана переменная, в которой хранится слово из латинских букв. Напишите код, который выводит на экран:\n",
        "*   среднюю букву, если число букв в слове нечетное;\n",
        "*   две средних буквы, если число букв четное.\n",
        "\n"
      ],
      "metadata": {
        "id": "h_iOyAHjiSo-"
      }
    },
    {
      "cell_type": "code",
      "execution_count": null,
      "metadata": {
        "colab": {
          "base_uri": "https://localhost:8080/"
        },
        "id": "4pfIgO8ciNKs",
        "outputId": "b5f62de0-faef-4fd9-fee0-8f16681791fd"
      },
      "outputs": [
        {
          "output_type": "stream",
          "name": "stdout",
          "text": [
            "Введите слово strings\n",
            "i\n"
          ]
        }
      ],
      "source": [
        "word = str(input('Введите слово '))\n",
        "count_letter = len(word)\n",
        "if count_letter%2 == 0:\n",
        "  print(word[(count_letter//2)-1], word[(count_letter//2)])\n",
        "else:\n",
        "  print(word[count_letter//2])"
      ]
    },
    {
      "cell_type": "markdown",
      "source": [
        "###Задание 2\n",
        "Напишите программу, которая последовательно запрашивает у пользователя числа (по одному за раз) и после первого нуля выводит сумму всех ранее введенных чисел."
      ],
      "metadata": {
        "id": "-fJBaDnok1uC"
      }
    },
    {
      "cell_type": "code",
      "source": [
        "numders = []\n",
        "a = False\n",
        "while a == False:\n",
        "  number = int(input('введите целое число '))\n",
        "  if number !=0:\n",
        "    numders.append(number)\n",
        "  else:\n",
        "    a = True\n",
        "    print('сумма введенных вами чисел до 0 = ',sum(numders))"
      ],
      "metadata": {
        "colab": {
          "base_uri": "https://localhost:8080/"
        },
        "id": "0-xsh8jZk6k7",
        "outputId": "e2279c7f-6362-49a0-e748-c5557332c0b5"
      },
      "execution_count": null,
      "outputs": [
        {
          "output_type": "stream",
          "name": "stdout",
          "text": [
            "введите целое число 5\n",
            "введите целое число 2\n",
            "введите целое число 0\n",
            "сумма введенных вами чисел до 0 =  7\n"
          ]
        }
      ]
    },
    {
      "cell_type": "markdown",
      "source": [
        "###Задание 3\n",
        "Мы делаем MVP dating-сервиса, и у нас есть список парней и девушек.\n",
        "Выдвигаем гипотезу: лучшие рекомендации мы получим, если просто отсортируем имена по алфавиту и познакомим людей с одинаковыми индексами после сортировки! Но мы не будем никого знакомить, если кто-то может остаться без пары:"
      ],
      "metadata": {
        "id": "H4BEdYNwnVyA"
      }
    },
    {
      "cell_type": "code",
      "source": [
        "boys = input('Введите имена парней через пробел ').split()\n",
        "girls = input('Введите имена девушек через пробел ').split()\n",
        "boys.sort()\n",
        "girls.sort()\n",
        "if len(boys) == len(girls):\n",
        "  boy_gril = zip(boys, girls)\n",
        "  print(list(boy_gril))\n",
        "else:\n",
        "  if len(boys) > len(girls):\n",
        "    print('Парней больше, кто-то из девушек будет грустить=(')\n",
        "  else:\n",
        "    print('Девушек больше, кто-то из парней будет грустить=(')\n"
      ],
      "metadata": {
        "colab": {
          "base_uri": "https://localhost:8080/"
        },
        "id": "vhI9YO4VnZej",
        "outputId": "869ad95f-b021-41ec-b9b0-63dc59623e36"
      },
      "execution_count": null,
      "outputs": [
        {
          "output_type": "stream",
          "name": "stdout",
          "text": [
            "Введите имена парней через пробел Саша Игорь Петя\n",
            "Введите имена девушек через пробел Аня Катя\n",
            "Парней больше, кто-то из девушек будет грустить=(\n"
          ]
        }
      ]
    },
    {
      "cell_type": "markdown",
      "source": [
        "###Задание 4\n",
        "У нас есть список, содержащий информацию о среднедневной температуре в Фаренгейтах за произвольный период по странам (структура данных в примере). Необходимо написать код, который рассчитает среднюю температуру за период в Цельсиях(!) для каждой страны."
      ],
      "metadata": {
        "id": "xcFo1Ws6r8wQ"
      }
    },
    {
      "cell_type": "code",
      "source": [
        "countries_temperature = [\n",
        "['Thailand', [75.2, 77, 78.8, 73.4, 68, 75.2, 77]],\n",
        "['Germany', [57.2, 55.4, 59, 59, 53.6]],\n",
        "['Russia', [35.6, 37.4, 39.2, 41, 42.8, 39.2, 35.6]],\n",
        "['Poland', [50, 50, 53.6, 57.2, 55.4, 55.4]]\n",
        "]\n",
        "print('Cредняя температура по цельсию в странах:')\n",
        "for country in countries_temperature:\n",
        "   mean_temp = round(((sum(country[1])-32)/1.8)/len(country[1]),1)\n",
        "   print(f'{country[0]} - {mean_temp} C')\n",
        "\n",
        "     "
      ],
      "metadata": {
        "colab": {
          "base_uri": "https://localhost:8080/"
        },
        "id": "nEdnWhyPr-zF",
        "outputId": "510c3935-5621-410a-f48f-cee67c8fdb33"
      },
      "execution_count": null,
      "outputs": [
        {
          "output_type": "stream",
          "name": "stdout",
          "text": [
            "Cредняя температура по цельсию в странах:\n",
            "Thailand - 39.1\n",
            "Germany - 28.0\n",
            "Russia - 19.0\n",
            "Poland - 26.8\n"
          ]
        }
      ]
    },
    {
      "cell_type": "markdown",
      "source": [
        "###Задание 5 (необязательное)\n",
        "Дан поток логов по количеству просмотренных страниц для каждого пользователя. Вам необходимо написать алгоритм, который считает среднее значение просмотров на пользователя. Т. е. надо посчитать отношение суммы всех просмотров к количеству уникальных пользователей."
      ],
      "metadata": {
        "id": "NPEnYkRhqRbU"
      }
    },
    {
      "cell_type": "code",
      "source": [
        "stream = [\n",
        "'2018-01-01,user1,3',\n",
        "'2018-01-07,user1,4',\n",
        "'2018-03-29,user1,1',\n",
        "'2018-04-04,user1,13',\n",
        "'2018-01-05,user2,7',\n",
        "'2018-06-14,user3,4',\n",
        "'2018-07-02,user3,10',\n",
        "'2018-03-21,user4,19',\n",
        "'2018-03-22,user4,4',\n",
        "'2018-04-22,user4,8',\n",
        "'2018-05-03,user4,9',\n",
        "'2018-05-11,user4,11',\n",
        "]\n",
        "new_stream = []\n",
        "for str in stream:\n",
        "    stream_split = str.split(',')\n",
        "    new_stream.append(stream_split)\n",
        "user = []\n",
        "watch = []\n",
        "for str in new_stream:\n",
        "    if str[1] not in user:\n",
        "        user.append(str[1])\n",
        "    watch.append(str[2])\n",
        "mean_watch_unique = sum([int(number) for number in watch])/len(user)\n",
        "print(f'Среднее количество просмотров на уникального пользователя = {mean_watch_unique}')"
      ],
      "metadata": {
        "colab": {
          "base_uri": "https://localhost:8080/"
        },
        "id": "i7oJf1xZqR6Z",
        "outputId": "a1e16850-cfce-4f15-bcc0-f0ee87aed708"
      },
      "execution_count": null,
      "outputs": [
        {
          "output_type": "stream",
          "name": "stdout",
          "text": [
            "Среднее количество просмотров на уникального пользователя = 23.25\n"
          ]
        }
      ]
    },
    {
      "cell_type": "markdown",
      "source": [
        "###Задание 6 (необязательное)\n",
        "Необходимо у пользователя запрашивать набор чисел разделенных пробелом. В результате в отсортированном порядке должны выводиться числа, которые повторяются в вводе более одного раза."
      ],
      "metadata": {
        "id": "dGcfSp9eqiJJ"
      }
    },
    {
      "cell_type": "code",
      "source": [
        "numbers = (input('Введите числа через пробел ')).split()\n",
        "numbers = [int(i) for i in numbers]\n",
        "not_unique_numbers = []\n",
        "for i in numbers:\n",
        "    if numbers.count(i) >= 2:\n",
        "        if i not in not_unique_numbers:\n",
        "            not_unique_numbers.append(i)\n",
        "print(sorted(not_unique_numbers))\n"
      ],
      "metadata": {
        "colab": {
          "base_uri": "https://localhost:8080/"
        },
        "id": "Xw4EqsP3qilD",
        "outputId": "f5968c99-191c-48da-9b11-ba4540d2a003"
      },
      "execution_count": null,
      "outputs": [
        {
          "output_type": "stream",
          "name": "stdout",
          "text": [
            "Введите числа через пробел 5 2 3 2 4 5 3\n",
            "[2, 3, 5]\n"
          ]
        }
      ]
    }
  ]
}
