{
  "nbformat": 4,
  "nbformat_minor": 0,
  "metadata": {
    "colab": {
      "provenance": [],
      "authorship_tag": "ABX9TyMQMrCdby8gJu6pdYWMcOak",
      "include_colab_link": true
    },
    "kernelspec": {
      "name": "python3",
      "display_name": "Python 3"
    },
    "language_info": {
      "name": "python"
    }
  },
  "cells": [
    {
      "cell_type": "markdown",
      "metadata": {
        "id": "view-in-github",
        "colab_type": "text"
      },
      "source": [
        "<a href=\"https://colab.research.google.com/github/igorkokin1995/homeworks/blob/main/%D0%94%D0%BE%D0%BC%D0%B0%D1%88%D0%BD%D0%B5%D0%B5_%D0%B7%D0%B0%D0%B4%D0%B0%D0%BD%D0%B8%D0%B5_%D0%BA_%D0%BB%D0%B5%D0%BA%D1%86%D0%B8%D0%B8_%C2%AB%D0%98%D1%81%D0%BA%D0%BB%D1%8E%D1%87%D0%B5%D0%BD%D0%B8%D1%8F_%D0%B8_%D0%BE%D0%B1%D1%80%D0%B0%D0%B1%D0%BE%D1%82%D0%BA%D0%B0_%D0%BE%D1%88%D0%B8%D0%B1%D0%BE%D0%BA%C2%BB_%D0%9A%D0%BE%D0%BA%D0%B8%D0%BD_DAU_26.ipynb\" target=\"_parent\"><img src=\"https://colab.research.google.com/assets/colab-badge.svg\" alt=\"Open In Colab\"/></a>"
      ]
    },
    {
      "cell_type": "markdown",
      "source": [
        "###Задание 1\n",
        "Печатные газеты использовали свой формат дат для каждого выпуска. Для каждой газеты из списка напишите формат указанной даты для перевода в объект datetime:\n",
        "* The Moscow Times - Wednesday, October 2, 2002\n",
        "* The Guardian - Friday, 11.10.13\n",
        "* Daily News - Thursday, 18 August 1977"
      ],
      "metadata": {
        "id": "waV1BrRpBPrv"
      }
    },
    {
      "cell_type": "code",
      "execution_count": null,
      "metadata": {
        "id": "TWsKMPdEBIJP"
      },
      "outputs": [],
      "source": [
        "M_time = 'Wednesday, October 2, 2002'\n",
        "Guardian = 'Friday, 11.10.13'\n",
        "D_news = 'Thursday, 18 August 1977'"
      ]
    },
    {
      "cell_type": "code",
      "source": [
        "from datetime import datetime\n",
        "\n",
        "M_dt = datetime.strptime(M_time, '%A, %B %d, %Y')\n",
        "M_dt"
      ],
      "metadata": {
        "colab": {
          "base_uri": "https://localhost:8080/"
        },
        "id": "1a4tAYhYCdAd",
        "outputId": "1c3be526-7952-4c04-936d-2ff0cb8698cf"
      },
      "execution_count": null,
      "outputs": [
        {
          "output_type": "execute_result",
          "data": {
            "text/plain": [
              "datetime.datetime(2002, 10, 2, 0, 0)"
            ]
          },
          "metadata": {},
          "execution_count": 5
        }
      ]
    },
    {
      "cell_type": "code",
      "source": [
        "G_dt = datetime.strptime(Guardian, '%A, %m.%d.%y')\n",
        "G_dt"
      ],
      "metadata": {
        "colab": {
          "base_uri": "https://localhost:8080/"
        },
        "id": "Bd0mnonmEhUj",
        "outputId": "7c50019b-58c5-4687-9d1c-6e4e93a7051b"
      },
      "execution_count": null,
      "outputs": [
        {
          "output_type": "execute_result",
          "data": {
            "text/plain": [
              "datetime.datetime(2013, 11, 10, 0, 0)"
            ]
          },
          "metadata": {},
          "execution_count": 3
        }
      ]
    },
    {
      "cell_type": "code",
      "source": [
        "D_dt = datetime.strptime(D_news, '%A, %d %B %Y')\n",
        "D_dt"
      ],
      "metadata": {
        "colab": {
          "base_uri": "https://localhost:8080/"
        },
        "id": "zQ44cTSvEqIw",
        "outputId": "21d79d67-b7cf-4887-e958-23800810efb7"
      },
      "execution_count": null,
      "outputs": [
        {
          "output_type": "execute_result",
          "data": {
            "text/plain": [
              "datetime.datetime(1977, 8, 18, 0, 0)"
            ]
          },
          "metadata": {},
          "execution_count": 4
        }
      ]
    },
    {
      "cell_type": "markdown",
      "source": [
        "###Задание 2\n",
        "Дан поток дат в формате YYYY-MM-DD, в которых встречаются некорректные значения:\n",
        "stream = [‘2018-04-02’, ‘2018-02-29’, ‘2018-19-02’]\n",
        "\n",
        "Напишите функцию, которая проверяет эти даты на корректность. Т. е. для каждой даты возвращает True (дата корректна) или False (некорректная дата)."
      ],
      "metadata": {
        "id": "LyoxNUI1E0ge"
      }
    },
    {
      "cell_type": "code",
      "source": [
        "stream = ['2018-04-02', '2018-02-29', '2018-19-02']"
      ],
      "metadata": {
        "id": "zjghsrp0E2Kg"
      },
      "execution_count": null,
      "outputs": []
    },
    {
      "cell_type": "code",
      "source": [
        "def date_correct(date_stream):\n",
        "  for date in date_stream:\n",
        "    try:\n",
        "      d_t = datetime.strptime(date, '%Y-%m-%d')\n",
        "      print(f'{date} - {True}')\n",
        "    except:\n",
        "      print(f'{date} - {False}')\n",
        "\n",
        "date_correct(stream)      \n"
      ],
      "metadata": {
        "colab": {
          "base_uri": "https://localhost:8080/"
        },
        "id": "hI1Td1oqFKVt",
        "outputId": "ff4a208e-b6d0-47bc-d47b-446941cca153"
      },
      "execution_count": null,
      "outputs": [
        {
          "output_type": "stream",
          "name": "stdout",
          "text": [
            "2018-04-02 - True\n",
            "2018-02-29 - False\n",
            "2018-19-02 - False\n"
          ]
        }
      ]
    },
    {
      "cell_type": "markdown",
      "source": [
        "###Задание 3\n",
        "Напишите функцию date_range, которая возвращает список дат за период от start_date до end_date. Даты должны вводиться в формате YYYY-MM-DD. В случае неверного формата или при start_date > end_date должен возвращаться пустой список."
      ],
      "metadata": {
        "id": "VwO2_RKeHSeD"
      }
    },
    {
      "cell_type": "code",
      "source": [
        "from datetime import timedelta"
      ],
      "metadata": {
        "id": "0_m1pbn0Id81"
      },
      "execution_count": null,
      "outputs": []
    },
    {
      "cell_type": "code",
      "source": [
        "def date_range():\n",
        "  try:\n",
        "    start_date = datetime.strptime(input('Введите начальную дату: '), '%Y-%m-%d')\n",
        "    end_date = datetime.strptime(input('Введите конечную дату: '), '%Y-%m-%d')\n",
        "    date_list = []\n",
        "    date = start_date\n",
        "\n",
        "    while date < end_date:\n",
        "      date_list.append(date.strftime('%Y-%m-%d'))\n",
        "      date += timedelta(days = 1)\n",
        "    \n",
        "    return(date_list)\n",
        "  except:\n",
        "    date_list = []\n",
        "    return(date_list)"
      ],
      "metadata": {
        "id": "Wqg2nJc_HT9z"
      },
      "execution_count": null,
      "outputs": []
    },
    {
      "cell_type": "code",
      "source": [
        "date_range()"
      ],
      "metadata": {
        "colab": {
          "base_uri": "https://localhost:8080/"
        },
        "id": "YQKvDkg1MPif",
        "outputId": "2ac3a2f9-8c54-43b1-a742-3ea999b1b385"
      },
      "execution_count": null,
      "outputs": [
        {
          "name": "stdout",
          "output_type": "stream",
          "text": [
            "Введите начальную дату: fdhfd\n"
          ]
        },
        {
          "output_type": "execute_result",
          "data": {
            "text/plain": [
              "[]"
            ]
          },
          "metadata": {},
          "execution_count": 21
        }
      ]
    },
    {
      "cell_type": "markdown",
      "source": [
        "###Задание 4 (необязательное)"
      ],
      "metadata": {
        "id": "FlnkQ4qnOpJ5"
      }
    },
    {
      "cell_type": "markdown",
      "source": [
        "list index out of range - Данная ошибка означает, что индекс, к которому обращаются не входит в перечень индексов из списка.\n",
        "\n",
        "Функция отрабатывает корректно в первый раз, т.к. в списке элементы с индексами 0, 1, 2. В блоке return\n",
        "```\n",
        "(default_list[DEFAULT_USER_COUNT-2])\n",
        "```\n",
        "возвращается элемент с индексом 1, что совпало по ответу с выполнением функции (после выполнение в ней остались жлемдексом 0 и 1).\n",
        "На следующей итерации в функции останется только элемент с индексом 0, а return говорит, что нужно вернуть элемент с индексом 1, поэтому возникает ошибка\n",
        "```\n",
        "list index out of range\n",
        "```"
      ],
      "metadata": {
        "id": "GA71a6d2Ou_p"
      }
    }
  ]
}
